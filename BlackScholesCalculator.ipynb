{
 "cells": [
  {
   "cell_type": "code",
   "execution_count": 1,
   "metadata": {},
   "outputs": [],
   "source": [
    "from math import log, sqrt, pi, exp\n",
    "from scipy.stats import norm\n",
    "from datetime import datetime, date\n",
    "import numpy as np\n",
    "import pandas as pd\n",
    "import numpy as np\n",
    "import scipy.stats as si\n",
    "import sympy as sy\n",
    "from sympy.stats import Normal, cdf\n",
    "from sympy import init_printing\n",
    "from pandas import DataFrame\n",
    "from datetime import date\n",
    "import pymongo\n",
    "import pandas as pd"
   ]
  },
  {
   "cell_type": "code",
   "execution_count": 2,
   "metadata": {},
   "outputs": [],
   "source": [
    "# Underlying price (per share): S; \n",
    "# Strike price of the option (per share): K;\n",
    "# Time to maturity (years): T;(To be given in years)\n",
    "# Continuously compounding risk-free interest rate: r;(Annual in % to be given)\n",
    "# Volatility: sigma;(in % to be given)\n",
    "\n",
    "def bs(S,K,r,T,sigma,x):\n",
    "    d1 = (np.log(S / K) + (r + 0.5 * (sigma ** 2)) * T) / (sigma * np.sqrt(T))\n",
    "    d2 = d1-sigma*np.sqrt(T)\n",
    "    prob_density = 1 / np.sqrt(2 * np.pi) * np.exp(-(d1 ** 2) * 0.5)\n",
    "    result= pd.DataFrame()\n",
    "    result['Premium'] = (S *x* si.norm.cdf(d1*x, 0.0, 1.0) - K *x* np.exp(-r * T) * si.norm.cdf(d2*x, 0.0, 1.0))\n",
    "    result['Delta'] = si.norm.cdf(d1*x, 0.0, 1.0)*x\n",
    "    #result['Theta'] = (-sigma * S * prob_density) / (2 * np.sqrt(T)) - r * K*x * np.exp(-r * T) * si.norm.cdf(d2*x, 0.0, 1.0) \n",
    "    result['Theta'] = 0.01*(-(S*prob_density*sigma)/(2*np.sqrt(T)) - r*K*x*np.exp(-r*T)*si.norm.cdf(-d2*x,0.0,1.0))\n",
    "    result['Gamma'] = prob_density / (S * sigma * np.sqrt(T))\n",
    "    result['Vega'] = 0.01*S * prob_density * np.sqrt(T)\n",
    "    result['Rho'] = 0.01*T * K*x * np.exp(-r * T) * si.norm.cdf(d2*x, 0.0, 1.0)\n",
    "    return result"
   ]
  },
  {
   "cell_type": "code",
   "execution_count": null,
   "metadata": {},
   "outputs": [],
   "source": []
  },
  {
   "cell_type": "code",
   "execution_count": 6,
   "metadata": {},
   "outputs": [],
   "source": [
    "#s=Stock;o=Option data\n",
    "#To fetch Data\n",
    "myclient = pymongo.MongoClient(\"mongodb://localhost:27017/\")\n",
    "mydb = myclient[\"OHLC_MINUTE_1\"]\n",
    "mycol_s = mydb['StockData']\n",
    "mycol_o = mydb['OptionData']\n",
    "df_s = pd.DataFrame(list(mycol_s.find())) #Dataframe Created of OHLC Data\n",
    "df_o = pd.DataFrame(list(mycol_o.find())) #Dataframe Created of OHLC Data\n",
    "df_s.set_index(\"LastTradeTime\", inplace = True) \n",
    "df_o.set_index(\"LastTradeTime\", inplace = True) \n",
    "df=pd.DataFrame()\n",
    "df['StockPrice']=df_s['Open']\n",
    "df['OptionPremium']=df_o['Open']\n"
   ]
  },
  {
   "cell_type": "code",
   "execution_count": 7,
   "metadata": {
    "scrolled": true
   },
   "outputs": [],
   "source": [
    "import datetime\n",
    "#Converting to Epoch Time\n",
    "date_time_str = '20'+ year + month + date + '15:30:00'\n",
    "ExpiryTime = datetime.datetime.strptime(date_time_str, '%Y%B%d%H:%M:%S').timestamp()\n",
    "df['Expiry Days'] = (ExpiryTime-df.index)/(86400)\n",
    "df=df.dropna()\n",
    "#For Call Options Input is 1; For Put Option: Input is -1\n",
    "if(type=='CE'):\n",
    "    df['type']=1\n",
    "else:\n",
    "    df['type']=-1"
   ]
  },
  {
   "cell_type": "code",
   "execution_count": null,
   "metadata": {},
   "outputs": [],
   "source": []
  },
  {
   "cell_type": "code",
   "execution_count": 9,
   "metadata": {},
   "outputs": [
    {
     "data": {
      "text/html": [
       "<div>\n",
       "<style scoped>\n",
       "    .dataframe tbody tr th:only-of-type {\n",
       "        vertical-align: middle;\n",
       "    }\n",
       "\n",
       "    .dataframe tbody tr th {\n",
       "        vertical-align: top;\n",
       "    }\n",
       "\n",
       "    .dataframe thead th {\n",
       "        text-align: right;\n",
       "    }\n",
       "</style>\n",
       "<table border=\"1\" class=\"dataframe\">\n",
       "  <thead>\n",
       "    <tr style=\"text-align: right;\">\n",
       "      <th></th>\n",
       "      <th>Premium</th>\n",
       "      <th>Delta</th>\n",
       "      <th>Theta</th>\n",
       "      <th>Gamma</th>\n",
       "      <th>Vega</th>\n",
       "      <th>Rho</th>\n",
       "    </tr>\n",
       "    <tr>\n",
       "      <th>LastTradeTime</th>\n",
       "      <th></th>\n",
       "      <th></th>\n",
       "      <th></th>\n",
       "      <th></th>\n",
       "      <th></th>\n",
       "      <th></th>\n",
       "    </tr>\n",
       "  </thead>\n",
       "  <tbody>\n",
       "    <tr>\n",
       "      <th>1588909560</th>\n",
       "      <td>170.091641</td>\n",
       "      <td>0.273725</td>\n",
       "      <td>-108.080635</td>\n",
       "      <td>0.000321</td>\n",
       "      <td>8.641097</td>\n",
       "      <td>0.901275</td>\n",
       "    </tr>\n",
       "    <tr>\n",
       "      <th>1588909620</th>\n",
       "      <td>190.739611</td>\n",
       "      <td>0.297358</td>\n",
       "      <td>-112.297195</td>\n",
       "      <td>0.000332</td>\n",
       "      <td>9.020981</td>\n",
       "      <td>0.981650</td>\n",
       "    </tr>\n",
       "    <tr>\n",
       "      <th>1588909680</th>\n",
       "      <td>181.832604</td>\n",
       "      <td>0.287314</td>\n",
       "      <td>-110.572608</td>\n",
       "      <td>0.000328</td>\n",
       "      <td>8.863916</td>\n",
       "      <td>0.947314</td>\n",
       "    </tr>\n",
       "    <tr>\n",
       "      <th>1588909740</th>\n",
       "      <td>173.506646</td>\n",
       "      <td>0.277741</td>\n",
       "      <td>-108.847796</td>\n",
       "      <td>0.000323</td>\n",
       "      <td>8.707262</td>\n",
       "      <td>0.914636</td>\n",
       "    </tr>\n",
       "    <tr>\n",
       "      <th>1588909800</th>\n",
       "      <td>167.481701</td>\n",
       "      <td>0.270699</td>\n",
       "      <td>-107.529455</td>\n",
       "      <td>0.000319</td>\n",
       "      <td>8.587557</td>\n",
       "      <td>0.890611</td>\n",
       "    </tr>\n",
       "  </tbody>\n",
       "</table>\n",
       "</div>"
      ],
      "text/plain": [
       "                  Premium     Delta       Theta     Gamma      Vega       Rho\n",
       "LastTradeTime                                                                \n",
       "1588909560     170.091641  0.273725 -108.080635  0.000321  8.641097  0.901275\n",
       "1588909620     190.739611  0.297358 -112.297195  0.000332  9.020981  0.981650\n",
       "1588909680     181.832604  0.287314 -110.572608  0.000328  8.863916  0.947314\n",
       "1588909740     173.506646  0.277741 -108.847796  0.000323  8.707262  0.914636\n",
       "1588909800     167.481701  0.270699 -107.529455  0.000319  8.587557  0.890611"
      ]
     },
     "execution_count": 9,
     "metadata": {},
     "output_type": "execute_result"
    }
   ],
   "source": [
    "Rate=0.048\n",
    "VIX=40\n",
    "#Days to be converted in form of years, VIX and Rate to be in %\n",
    "callResults=bs(df['StockPrice'],StrikePrice,Rate,df['Expiry Days']/365 ,VIX/100, 1)\n",
    "callResults.head(5)"
   ]
  },
  {
   "cell_type": "code",
   "execution_count": null,
   "metadata": {},
   "outputs": [],
   "source": []
  },
  {
   "cell_type": "code",
   "execution_count": null,
   "metadata": {},
   "outputs": [],
   "source": []
  },
  {
   "cell_type": "code",
   "execution_count": null,
   "metadata": {
    "scrolled": true
   },
   "outputs": [],
   "source": []
  },
  {
   "cell_type": "code",
   "execution_count": null,
   "metadata": {},
   "outputs": [],
   "source": []
  },
  {
   "cell_type": "code",
   "execution_count": null,
   "metadata": {},
   "outputs": [],
   "source": []
  },
  {
   "cell_type": "code",
   "execution_count": null,
   "metadata": {
    "scrolled": true
   },
   "outputs": [],
   "source": []
  },
  {
   "cell_type": "code",
   "execution_count": null,
   "metadata": {},
   "outputs": [],
   "source": []
  },
  {
   "cell_type": "code",
   "execution_count": null,
   "metadata": {},
   "outputs": [],
   "source": []
  },
  {
   "cell_type": "code",
   "execution_count": null,
   "metadata": {},
   "outputs": [],
   "source": []
  },
  {
   "cell_type": "code",
   "execution_count": null,
   "metadata": {},
   "outputs": [],
   "source": []
  },
  {
   "cell_type": "code",
   "execution_count": null,
   "metadata": {},
   "outputs": [],
   "source": []
  },
  {
   "cell_type": "code",
   "execution_count": null,
   "metadata": {},
   "outputs": [],
   "source": []
  }
 ],
 "metadata": {
  "kernelspec": {
   "display_name": "Python 3",
   "language": "python",
   "name": "python3"
  },
  "language_info": {
   "codemirror_mode": {
    "name": "ipython",
    "version": 3
   },
   "file_extension": ".py",
   "mimetype": "text/x-python",
   "name": "python",
   "nbconvert_exporter": "python",
   "pygments_lexer": "ipython3",
   "version": "3.6.5"
  }
 },
 "nbformat": 4,
 "nbformat_minor": 2
}
